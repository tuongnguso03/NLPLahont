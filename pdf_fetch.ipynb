{
 "cells": [
  {
   "cell_type": "code",
   "execution_count": null,
   "metadata": {},
   "outputs": [],
   "source": [
    "pip install arxiv"
   ]
  },
  {
   "cell_type": "code",
   "execution_count": 6,
   "metadata": {},
   "outputs": [],
   "source": [
    "import urllib, urllib.request\n",
    "import sys\n",
    "import os\n",
    "import re\n",
    "import arxiv\n",
    "\n",
    "def search():\n",
    "    # Define the base URL for the arXiv API\n",
    "    base_url = \"http://export.arxiv.org/api/query?\"\n",
    "    # we can limit the number of results like this\n",
    "    nrPapers = 10\n",
    "    # Construct the full URL for the search\n",
    "    search_url = base_url + \"search_query=all:e&start=0&max_results=\" + str(nrPapers) + \"&sortBy=lastUpdatedDate&sortOrder=descending\"\n",
    "    # get the raw data from the query\n",
    "    data = urllib.request.urlopen(search_url)\n",
    "    rawData = str(data.read().decode('utf-8'))\n",
    "\n",
    "    # collect the links of newesrt papers\n",
    "    papers = []\n",
    "    entryMatches = re.finditer(r\"<entry>(.*?)</entry>\", rawData, flags=re.DOTALL)\n",
    "    for entry in entryMatches:\n",
    "        link = \"\"\n",
    "        linkMatches = re.finditer(r\"<id>(.*?)</id>\", str(entry.group(1)), flags=re.DOTALL)\n",
    "        for l in linkMatches:\n",
    "            link = l.group(1)\n",
    "        link = link.replace(\"\\n\", \"\")\n",
    "        #print(\"Search complete!\")\n",
    "        papers.append(link)\n",
    "    \n",
    "    return papers\n"
   ]
  },
  {
   "cell_type": "code",
   "execution_count": 11,
   "metadata": {},
   "outputs": [],
   "source": [
    "papers = search()\n",
    "for paper_link in papers:\n",
    "    paper = next(arxiv.Search(id_list=[paper_link[21:]]).results())\n",
    "    paper.download_pdf(dirpath=\"./fetched_pdfs\")"
   ]
  }
 ],
 "metadata": {
  "kernelspec": {
   "display_name": "Python 3.6.9 64-bit",
   "language": "python",
   "name": "python3"
  },
  "language_info": {
   "codemirror_mode": {
    "name": "ipython",
    "version": 3
   },
   "file_extension": ".py",
   "mimetype": "text/x-python",
   "name": "python",
   "nbconvert_exporter": "python",
   "pygments_lexer": "ipython3",
   "version": "3.6.9"
  },
  "orig_nbformat": 4,
  "vscode": {
   "interpreter": {
    "hash": "31f2aee4e71d21fbe5cf8b01ff0e069b9275f58929596ceb00d14d90e3e16cd6"
   }
  }
 },
 "nbformat": 4,
 "nbformat_minor": 2
}
